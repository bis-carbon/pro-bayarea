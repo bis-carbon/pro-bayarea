{
 "cells": [
  {
   "cell_type": "code",
   "execution_count": 5,
   "metadata": {
    "collapsed": false
   },
   "outputs": [
    {
     "name": "stdout",
     "output_type": "stream",
     "text": [
      "X shape\n",
      "<type 'numpy.ndarray'>\n",
      "(500, 128, 160, 3)\n",
      "source shape\n",
      "<type 'list'>\n",
      "500\n",
      "251.308778\n",
      "<type 'numpy.ndarray'>\n",
      "<type 'numpy.ndarray'>\n",
      "[0, 1, 2, 3, 4, 5, 6, 7, 8, 9, 10, 11, 12, 13, 14, 15, 16, 17, 18, 19, 20, 21, 22, 23, 24, 25, 26, 27, 28, 29, 30, 31, 32, 33, 34, 35, 36, 37, 38, 39, 40, 41, 42, 43, 44, 45, 46, 47, 48, 49]\n"
     ]
    }
   ],
   "source": [
    "'''\n",
    "Evaluate trained PredNet on KITTI sequences.\n",
    "Calculates mean-squared error and plots predictions.\n",
    "'''\n",
    "\n",
    "from datetime import datetime \n",
    "import os\n",
    "import numpy as np\n",
    "from six.moves import cPickle\n",
    "import matplotlib\n",
    "matplotlib.use('Agg')\n",
    "import matplotlib.pyplot as plt\n",
    "import matplotlib.gridspec as gridspec\n",
    "\n",
    "from keras import backend as K\n",
    "from keras.models import Model, model_from_json\n",
    "from keras.layers import Input, Dense, Flatten\n",
    "\n",
    "from prednet import PredNet\n",
    "from data_utils import SequenceGenerator\n",
    "from kitti_settings_ss import *\n",
    "\n",
    "\n",
    "#n_plot = 40\n",
    "n_plot = 50\n",
    "batch_size = 10\n",
    "nt = 10\n",
    "\n",
    "weights_file = os.path.join(WEIGHTS_DIR, 'prednet_kitti_weights.hdf5')\n",
    "json_file = os.path.join(WEIGHTS_DIR, 'prednet_kitti_model.json')\n",
    "test_file = os.path.join(DATA_DIR, 'X_test_50hz_high50.hkl')\n",
    "test_sources = os.path.join(DATA_DIR, 'sources_test_50hz_high50.hkl')\n",
    "\n",
    "# Load trained model\n",
    "f = open(json_file, 'r')\n",
    "json_string = f.read()\n",
    "f.close()\n",
    "train_model = model_from_json(json_string, custom_objects = {'PredNet': PredNet})\n",
    "train_model.load_weights(weights_file)\n",
    "\n",
    "# Create testing model (to output predictions)\n",
    "layer_config = train_model.layers[1].get_config()\n",
    "layer_config['output_mode'] = 'prediction'\n",
    "dim_ordering = layer_config['dim_ordering']\n",
    "test_prednet = PredNet(weights=train_model.layers[1].get_weights(), **layer_config)\n",
    "input_shape = list(train_model.layers[0].batch_input_shape[1:])\n",
    "input_shape[0] = nt\n",
    "inputs = Input(shape=tuple(input_shape))\n",
    "predictions = test_prednet(inputs)\n",
    "test_model = Model(input=inputs, output=predictions)\n",
    "\n",
    "t1 = datetime.now()\n",
    "\n",
    "test_generator = SequenceGenerator(test_file, test_sources, nt, sequence_start_mode='unique', dim_ordering=dim_ordering)\n",
    "X_test = test_generator.create_all()\n",
    "X_hat = test_model.predict(X_test, batch_size)\n",
    "if dim_ordering == 'th':\n",
    "    X_test = np.transpose(X_test, (0, 1, 3, 4, 2))\n",
    "    X_hat = np.transpose(X_hat, (0, 1, 3, 4, 2))\n",
    "\n",
    "t2 = datetime.now()\n",
    "    \n",
    "print (t2-t1).total_seconds() \n",
    "print type(X_test)\n",
    "print type(X_hat)\n",
    "\n",
    "# Compare MSE of PredNet predictions vs. using last frame.  Write results to prediction_scores.txt\n",
    "mse_model = np.mean( (X_test[:, 1:] - X_hat[:, 1:])**2 )  # look at all timesteps except the first\n",
    "mse_prev = np.mean( (X_test[:, :-1] - X_test[:, 1:])**2 )\n",
    "mse_last = np.mean( (X_test[:, -1] - X_hat[:, -1])**2 )  # look only the last frame\n",
    "if not os.path.exists(RESULTS_SAVE_DIR): os.mkdir(RESULTS_SAVE_DIR)\n",
    "f = open(RESULTS_SAVE_DIR + 'prediction_scores.txt', 'w')\n",
    "f.write(\"Model MSE: %f\\n\" % mse_model)\n",
    "f.write(\"Last Frame MSE: %f\" % mse_last)\n",
    "f.write(\"Previous Frame MSE: %f\" % mse_prev)\n",
    "f.close()\n",
    "\n",
    "# Plot some predictions\n",
    "aspect_ratio = float(X_hat.shape[2]) / X_hat.shape[3]\n",
    "plt.figure(figsize = (nt, 2*aspect_ratio))\n",
    "gs = gridspec.GridSpec(2, nt)\n",
    "gs.update(wspace=0., hspace=0.)\n",
    "plot_save_dir = os.path.join(RESULTS_SAVE_DIR, 'prediction_plots/')\n",
    "if not os.path.exists(plot_save_dir): os.mkdir(plot_save_dir)\n",
    "#plot_idx = np.random.permutation(X_test.shape[0])[:n_plot]\n",
    "plot_idx = range(0,n_plot)\n",
    "print plot_idx\n",
    "for i in plot_idx:\n",
    "    for t in range(nt):\n",
    "        plt.subplot(gs[t])\n",
    "        plt.imshow(X_test[i,t], interpolation='none')\n",
    "        plt.tick_params(axis='both', which='both', bottom='off', top='off', left='off', right='off', labelbottom='off', labelleft='off')\n",
    "        if t==0: plt.ylabel('Actual', fontsize=10)\n",
    "\n",
    "        plt.subplot(gs[t + nt])\n",
    "        plt.imshow(X_hat[i,t], interpolation='none')\n",
    "        plt.tick_params(axis='both', which='both', bottom='off', top='off', left='off', right='off', labelbottom='off', labelleft='off')\n",
    "        if t==0: plt.ylabel('Predicted', fontsize=10)\n",
    "\n",
    "    plt.savefig(plot_save_dir +  'plot_' + str(i) + '.png')\n",
    "    plt.clf()\n"
   ]
  },
  {
   "cell_type": "code",
   "execution_count": 4,
   "metadata": {
    "collapsed": false
   },
   "outputs": [
    {
     "name": "stdout",
     "output_type": "stream",
     "text": [
      "[0, 1, 2, 3, 4, 5, 6, 7, 8, 9, 10, 11, 12, 13, 14, 15, 16, 17, 18, 19, 20, 21, 22, 23, 24, 25, 26, 27, 28, 29, 30, 31, 32, 33, 34, 35, 36, 37, 38, 39]\n"
     ]
    }
   ],
   "source": [
    "print range(0,n_plot)\n",
    "\n"
   ]
  },
  {
   "cell_type": "code",
   "execution_count": null,
   "metadata": {
    "collapsed": true
   },
   "outputs": [],
   "source": []
  }
 ],
 "metadata": {
  "kernelspec": {
   "display_name": "Python 2",
   "language": "python",
   "name": "python2"
  },
  "language_info": {
   "codemirror_mode": {
    "name": "ipython",
    "version": 2
   },
   "file_extension": ".py",
   "mimetype": "text/x-python",
   "name": "python",
   "nbconvert_exporter": "python",
   "pygments_lexer": "ipython2",
   "version": "2.7.12"
  },
  "widgets": {
   "state": {},
   "version": "1.1.2"
  }
 },
 "nbformat": 4,
 "nbformat_minor": 0
}
