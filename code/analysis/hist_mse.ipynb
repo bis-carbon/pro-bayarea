{
 "cells": [
  {
   "cell_type": "code",
   "execution_count": 19,
   "metadata": {
    "collapsed": true
   },
   "outputs": [],
   "source": [
    "# create histograms of the distributions of the MSE's (1 frame ahead predictions)\n",
    "# put the mse_frame2*.csv files in ./kitti_results_50hz\n",
    " "
   ]
  },
  {
   "cell_type": "code",
   "execution_count": 20,
   "metadata": {
    "collapsed": true
   },
   "outputs": [],
   "source": [
    "# load in packages\n",
    "\n",
    "import os\n",
    "import numpy as np\n",
    "import pandas as pd\n",
    "import matplotlib.mlab as mlab\n",
    "import matplotlib.pyplot as plt"
   ]
  },
  {
   "cell_type": "code",
   "execution_count": 21,
   "metadata": {
    "collapsed": true
   },
   "outputs": [],
   "source": [
    "# set up parameters\n",
    "# currently set up for the 50 hz files\n",
    "\n",
    "data_dir ='./kitti_results_50hz/'\n",
    "prefix = 'mse_frame2_P20_'\n",
    "parts = 20\n",
    "num_clips_per_avi = 20\n",
    "num_pred_frames_per_clip = 9 # remember, no prediction for first frame \n"
   ]
  },
  {
   "cell_type": "code",
   "execution_count": 23,
   "metadata": {
    "collapsed": false
   },
   "outputs": [],
   "source": [
    "# read in MSE results\n",
    "# mse_frame, mse's by clip and fa\n",
    "\n",
    "for part in range(1,parts+1):\n",
    "    curr_mse_frame = data_dir+prefix+str(part)+'.csv'\n",
    "    mse_in = pd.read_csv(curr_mse_frame,header = None)\n",
    "#    print mse_in.shape\n",
    "    if (part == 1):\n",
    "        mse_frame = mse_in\n",
    "    else:\n",
    "        mse_frame = pd.concat([mse_frame,mse_in],axis=0)\n",
    "\n",
    "mse_clip = np.apply_over_axes(np.mean, mse_frame, [1])"
   ]
  },
  {
   "cell_type": "code",
   "execution_count": 24,
   "metadata": {
    "collapsed": true
   },
   "outputs": [],
   "source": [
    "# plots of MSE's by frame (and by clip)\n",
    "\n",
    "do_scale = 1 # parameter to decide whether all the histograms will have the same scale or not\n",
    "do_png = 0 # toggle to write png files\n",
    "\n",
    "if (do_scale):\n",
    "    xmax = np.max(np.max(mse_frame))\n",
    "    ymax, tmp = mse_frame.shape\n",
    "\n",
    "for frame in range(0,num_pred_frames_per_clip):\n",
    "    frame_plot = plt.hist(mse_frame[:][frame])\n",
    "    if (do_scale):\n",
    "        head = 'MSEsc'\n",
    "        plt.axis([0,xmax,0,ymax])\n",
    "    else:\n",
    "        head = 'MSE'\n",
    "    plt.xlabel('MSE')\n",
    "    plt.ylabel('Frequency out of 2160 clips')\n",
    "    tit_str = 'For ' + 'frame'+ str(frame + 2) \n",
    "    plt.title(tit_str)\n",
    "    pmean = np.mean(mse_frame[:][frame])\n",
    "    psd = np.std(mse_frame[:][frame])\n",
    "    cap_str = 'Mean = '+str(pmean)+', SD = '+str(psd)\n",
    "    plt.figtext(0.0,0.0,cap_str)\n",
    "    plt.show()\n",
    "    if (do_png):\n",
    "        figfile = head+str(frame + 2)+'.png'\n",
    "        plt.savefig(figfile)\n",
    "    plt.close()\n",
    " "
   ]
  },
  {
   "cell_type": "code",
   "execution_count": 25,
   "metadata": {
    "collapsed": false
   },
   "outputs": [],
   "source": [
    "# plots of MSE's, over all frames (by clip)\n",
    "\n",
    "do_scale = 1 # parameter to decide whether all the histograms will have the same scale or not\n",
    "do_png = 0 # toggle to write png filesoverall = plt.hist(mse_clip)\n",
    "\n",
    "overall = plt.hist(mse_clip)\n",
    "\n",
    "if (do_scale):\n",
    "    xmax = np.max(np.max(mse_frame))\n",
    "    ymax, tmp = mse_frame.shape\n",
    "    plt.axis([0,xmax,0,ymax])\n",
    "    overall_file = 'MSEsc_overall.png'\n",
    "else:\n",
    "    overall_file = 'MSE_overall.png'\n",
    "    \n",
    "plt.xlabel('MSE')\n",
    "plt.ylabel('Frequency out of 2160 clips')\n",
    "plt.title('Over all 9 frames')\n",
    "pmean = np.mean(mse_clip)\n",
    "psd = np.std(mse_clip)\n",
    "cap_str = 'Mean = '+str(pmean)+', SD = '+str(psd)\n",
    "plt.figtext(0.0,0.0,cap_str)\n",
    "plt.show()\n",
    "if (do_png):\n",
    "    plt.savefig(overall_file)\n",
    "plt.close()    \n"
   ]
  }
 ],
 "metadata": {
  "kernelspec": {
   "display_name": "Python [Root]",
   "language": "python",
   "name": "Python [Root]"
  },
  "language_info": {
   "codemirror_mode": {
    "name": "ipython",
    "version": 2
   },
   "file_extension": ".py",
   "mimetype": "text/x-python",
   "name": "python",
   "nbconvert_exporter": "python",
   "pygments_lexer": "ipython2",
   "version": "2.7.12"
  }
 },
 "nbformat": 4,
 "nbformat_minor": 0
}
