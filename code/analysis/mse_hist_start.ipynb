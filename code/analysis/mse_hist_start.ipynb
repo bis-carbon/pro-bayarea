{
 "cells": [
  {
   "cell_type": "code",
   "execution_count": null,
   "metadata": {
    "collapsed": true
   },
   "outputs": [],
   "source": [
    "\"\"\"\n",
    "version of mse_hist to pull out first 3 frames of the start of the accident\n",
    "\n",
    "\n",
    "\"\"\"\n",
    "%matplotlib inline\n"
   ]
  },
  {
   "cell_type": "code",
   "execution_count": null,
   "metadata": {
    "collapsed": true
   },
   "outputs": [],
   "source": [
    "# read in packages\n",
    "\n",
    "import os\n",
    "import numpy as np\n",
    "import pandas as pd\n",
    "import matplotlib.mlab as mlab\n",
    "import matplotlib.pyplot as plt\n"
   ]
  },
  {
   "cell_type": "code",
   "execution_count": null,
   "metadata": {
    "collapsed": true
   },
   "outputs": [],
   "source": [
    "# set up variables to open files, for different options\n",
    "\n",
    "do_scale = 1 # If you want the plots to have the same scale, set to 1\n",
    "no_12 = 1    # set to 0 if you want all frames, set to 1 if you want to remove\n",
    "             # frames 1 and 2 (if you're comparing to shanghai data, you\n",
    "             # might want to do this, because frame 2 has much higher MSE)\n",
    "hz = 2.0     # set this to the hz you want\n",
    "\n",
    "hz_str = str(int(hz))\n",
    "home = '.'\n",
    "data_dir ='/accid_results_start_'+hz_str+'hz/'\n",
    "prefix_mse = 'mse_frame2_start'\n",
    "suffix_mse = 'hzP1.csv'\n",
    "prefix_cliplist = 'cliplist_acc_start'\n",
    "suffix_cliplist = 'hz.csv'\n",
    "\n",
    "mse_file = home+data_dir+prefix_mse+hz_str+suffix_mse\n",
    "cliplist_file = home+data_dir+prefix_cliplist+hz_str+suffix_cliplist\n",
    "\n",
    "num_frames_per_clip = 10  \n",
    "num_pred_frames_per_clip = 9 # remember, no prediction for first frame \n"
   ]
  },
  {
   "cell_type": "code",
   "execution_count": null,
   "metadata": {
    "collapsed": true
   },
   "outputs": [],
   "source": [
    "#read in csv's\n",
    "\n",
    "mse_in = pd.read_csv(mse_file,header = None)\n",
    "print 'mse_in',mse_in.shape\n",
    "cliplist = pd.read_csv(cliplist_file)\n",
    "print 'cliplist', cliplist.shape\n",
    "\n",
    "#insert Nan MSE for frame =1 into mse_in \n",
    "\n",
    "len_MSE = mse_in.shape[0]\n",
    "d = np.zeros(len_MSE)\n",
    "d[:] = np.nan\n",
    "frame1_MSE = pd.Series(data = d)\n",
    "mse_in = pd.concat([frame1_MSE,mse_in],axis=1)\n",
    "mse_in.columns = ['1','2','3','4','5','6','7','8','9','10']\n",
    "\n",
    "#flatten mse_in\n",
    "mse_flat = pd.DataFrame(mse_in.values.flatten(),columns=['MSE'])\n",
    "\n",
    "#concat mse_in, cliplist\n",
    "cliplist = pd.concat([cliplist,mse_flat],axis=1)\n",
    "\n",
    "#Add a 2 and a 3 to the 'start_acc' column for subsetting later\n",
    "\n",
    "set_to_2 = cliplist.loc[(cliplist['start_acc']==1) & (cliplist['frame']!=10)].index.values\n",
    "set_to_2 = set_to_2 + 1\n",
    "cliplist.start_acc.iloc[set_to_2] = 2\n",
    "\n",
    "set_to_3 = cliplist.loc[(cliplist['start_acc']==2) & (cliplist['frame']!=10)].index.values\n",
    "set_to_3 = set_to_3 + 1\n",
    "cliplist.start_acc.iloc[set_to_3] = 3\n",
    "\n",
    "# figure out scales for equal scaling\n",
    "\n",
    "if (do_scale):\n",
    "    mse_temp = cliplist.loc[(cliplist['start_acc']>= 1)&(cliplist['start_acc']<= 3)].MSE\n",
    "    xmax = np.max(np.max(mse_temp))\n",
    "    ymax = len_MSE\n"
   ]
  },
  {
   "cell_type": "code",
   "execution_count": null,
   "metadata": {
    "collapsed": true
   },
   "outputs": [],
   "source": [
    "# create plots\n",
    "\n",
    "for frame in range(1,4):\n",
    "\n",
    "    if (no_12):\n",
    "        #   This one subsets on start_acc and on frame >= 3. I did this to compare to the nonaccident \n",
    "        #   videos. Generally the MSE's are much larger for frame 2\n",
    "        mse_frame =  cliplist.loc[(cliplist['start_acc'] == frame) & (cliplist['frame'] >=3)].MSE\n",
    "        no_12_str = '_no12_'\n",
    "    else:\n",
    "        #   This one subsets just on start_acc    \n",
    "        mse_frame =  cliplist.loc[(cliplist['start_acc'] == frame)].MSE\n",
    "        no_12_str = '_'\n",
    "\n",
    "    mse_frame = mse_frame.dropna()\n",
    "    len_mse_frame = mse_frame.shape[0]\n",
    "    frame_plot = plt.hist(mse_frame)\n",
    "    if (do_scale):\n",
    "        head = 'MSEsc_start'+no_12_str\n",
    "        plt.axis([0,xmax,0,ymax])\n",
    "    else:\n",
    "        head = 'MSE_start_'+no_12_str\n",
    "    plt.xlabel('MSE')\n",
    "    curr_ylabel = 'Frequency out of '+str(int(len_mse_frame))+ ' clips'\n",
    "    plt.ylabel(curr_ylabel)\n",
    "    tit_str = 'For ' + 'start frame'+ str(frame) \n",
    "    plt.title(tit_str)\n",
    "    pmean = np.mean(mse_frame)\n",
    "    psd = np.std(mse_frame)\n",
    "    cap_str = 'Mean = '+str(pmean)+', SD = '+str(psd)\n",
    "    print hz_str    \n",
    "    print frame\n",
    "    print pmean\n",
    "    print psd\n",
    "    print len_mse_frame\n",
    "    plt.figtext(0.0,0.0,cap_str)\n",
    "    plt.show()\n",
    "    figfile = home+'/'+head+str(frame)+'.png'\n",
    "    plt.savefig(figfile)\n",
    "    plt.close()\n",
    "\n",
    "\n"
   ]
  }
 ],
 "metadata": {
  "kernelspec": {
   "display_name": "Python [Root]",
   "language": "python",
   "name": "Python [Root]"
  },
  "language_info": {
   "codemirror_mode": {
    "name": "ipython",
    "version": 2
   },
   "file_extension": ".py",
   "mimetype": "text/x-python",
   "name": "python",
   "nbconvert_exporter": "python",
   "pygments_lexer": "ipython2",
   "version": "2.7.12"
  }
 },
 "nbformat": 4,
 "nbformat_minor": 0
}
