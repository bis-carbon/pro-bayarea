{
 "cells": [
  {
   "cell_type": "code",
   "execution_count": null,
   "metadata": {
    "collapsed": false
   },
   "outputs": [],
   "source": [
    "import numpy as np\n",
    "import cv2\n",
    "import sys\n",
    "import skvideo.io\n",
    "import imageio\n",
    "\n",
    "# Write overlay Text on each frame \n",
    "def return_overlay(frame):\n",
    "    \n",
    "    img = frame\n",
    "    font = cv2.FONT_HERSHEY_COMPLEX_SMALL\n",
    "    cv2.putText(img,'Accident...',(0,200), font, 1,(255,255,255),2)\n",
    "    return img\n",
    "\n",
    "#read video using imageio library\n",
    "reader = imageio.get_reader('vd1.mp4','ffmpeg')\n",
    "fps = reader.get_meta_data()['fps']\n",
    "\n",
    "writer = imageio.get_writer('Video_overlay.mp4', fps=fps)\n",
    "\n",
    "for im in reader:\n",
    "    \n",
    "    im=return_overlay(im)\n",
    "    writer.append_data(im)\n",
    "    cv2.imshow('video_overlay',im)\n",
    "    if cv2.waitKey(25) & 0xFF == ord('q'):\n",
    "        break\n",
    "cv2.destroyAllWindows()\n",
    "writer.close()\n"
   ]
  },
  {
   "cell_type": "code",
   "execution_count": null,
   "metadata": {
    "collapsed": true
   },
   "outputs": [],
   "source": []
  }
 ],
 "metadata": {
  "anaconda-cloud": {},
  "kernelspec": {
   "display_name": "Python [conda root]",
   "language": "python",
   "name": "conda-root-py"
  },
  "language_info": {
   "codemirror_mode": {
    "name": "ipython",
    "version": 2
   },
   "file_extension": ".py",
   "mimetype": "text/x-python",
   "name": "python",
   "nbconvert_exporter": "python",
   "pygments_lexer": "ipython2",
   "version": "2.7.12"
  }
 },
 "nbformat": 4,
 "nbformat_minor": 1
}
